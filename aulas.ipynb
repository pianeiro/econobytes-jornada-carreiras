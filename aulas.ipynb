{
  "nbformat": 4,
  "nbformat_minor": 2,
  "metadata": {
    "colab": {
      "name": "Econobytes: Mini-curso de Python para Economistas.ipynb",
      "provenance": [],
      "collapsed_sections": [
        "qZ0zqLQ7-9GQ",
        "xMH_SqgXBULD",
        "8vyalnA3yDOj",
        "Pw60anK9yrSs",
        "TsKOAdOPEh49",
        "KGYSD5etDhkt",
        "uCWUKCWZJjUr",
        "3rKONDYMEzAW",
        "Ho6un4qvyZCP",
        "P60-Anx0e3Y7",
        "HFh-BPqv2eiU",
        "s2YJHjDP7NhK",
        "8SZOJfXXRBWZ",
        "pEyH6ZGoUJ7X",
        "1ptO6bEcUzf_",
        "da81K4ISi3Zr",
        "dlBoZt8ig0NN",
        "yHk-EDfnFV8u"
      ],
      "authorship_tag": "ABX9TyNtzf3o/+MMQD9HtXOCWWuY",
      "include_colab_link": true
    },
    "kernelspec": {
      "name": "python3",
      "display_name": "Python 3.8.8 64-bit ('base': conda)"
    },
    "language_info": {
      "name": "python",
      "version": "3.8.8",
      "mimetype": "text/x-python",
      "codemirror_mode": {
        "name": "ipython",
        "version": 3
      },
      "pygments_lexer": "ipython3",
      "nbconvert_exporter": "python",
      "file_extension": ".py"
    },
    "interpreter": {
      "hash": "dca0ade3e726a953b501b15e8e990130d2b7799f14cfd9f4271676035ebe5511"
    }
  },
  "cells": [
    {
      "cell_type": "code",
      "execution_count": 18,
      "source": [
        "import pandas as pd\n",
        "import statsmodels.formula.api as smf\n",
        "import numpy as np\n",
        "import matplotlib.pyplot as plt\n",
        "import tikzplotlib"
      ],
      "outputs": [],
      "metadata": {}
    },
    {
      "cell_type": "code",
      "execution_count": 20,
      "source": [
        "gujarati = \"http://www.econometrics.com/comdata/gujarati/data_8.3.shd\"\n",
        "dados = pd.read_fwf(\n",
        "    gujarati,\n",
        "    header=None,\n",
        "    widths=[8,5,7],\n",
        "    names=[\"pib\", \"trabalho\", \"capital\"]\n",
        ")\n",
        "dados.index = pd.date_range(\n",
        "    \"1955\", \n",
        "    freq=\"Y\", \n",
        "    periods=len(dados)\n",
        ").strftime(\"%y\")\n",
        "for coluna in dados: dados[coluna] = dados[coluna].astype(\"float\")"
      ],
      "outputs": [],
      "metadata": {
        "id": "o991yM1bEwlp"
      }
    },
    {
      "cell_type": "code",
      "execution_count": 21,
      "source": [
        "modelo = smf.ols(\"np.log(pib) ~ np.log(trabalho) + np.log(capital)\", dados).fit()"
      ],
      "outputs": [],
      "metadata": {
        "id": "zjHfaoa7MaHw"
      }
    },
    {
      "cell_type": "code",
      "execution_count": 22,
      "source": [
        "open(\"tabela.tex\",\"w+\").write(modelo.summary().as_latex())"
      ],
      "outputs": [
        {
          "output_type": "execute_result",
          "data": {
            "text/plain": [
              "2129"
            ]
          },
          "metadata": {},
          "execution_count": 22
        }
      ],
      "metadata": {}
    },
    {
      "cell_type": "code",
      "execution_count": 23,
      "source": [
        "plt.figure(figsize=[10,6])\n",
        "plt.plot(np.log(dados.pib), linewidth=0, marker=\"x\")\n",
        "plt.plot(modelo.predict())\n",
        "plt.bar(height=modelo.resid, x=dados.index)\n",
        "open(\"grafico.tex\", \"w+\").write(\n",
        "    tikzplotlib.get_tikz_code(\n",
        "        axis_width=\"15cm\",\n",
        "        axis_height=\"5cm\"\n",
        "    )\n",
        ")"
      ],
      "outputs": [
        {
          "output_type": "execute_result",
          "data": {
            "text/plain": [
              "3395"
            ]
          },
          "metadata": {},
          "execution_count": 23
        },
        {
          "output_type": "display_data",
          "data": {
            "image/png": "[encoded data removed]",
            "text/plain": [
              "<Figure size 720x432 with 1 Axes>"
            ]
          },
          "metadata": {
            "needs_background": "light"
          }
        }
      ],
      "metadata": {
        "colab": {
          "base_uri": "https://localhost:8080/",
          "height": 391
        },
        "id": "b63fwBvaSd0n",
        "outputId": "22fdda61-a087-487d-f5f5-4494f766afdf"
      }
    }
  ]
}